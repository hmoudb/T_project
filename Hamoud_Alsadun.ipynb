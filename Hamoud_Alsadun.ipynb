{
  "nbformat": 4,
  "nbformat_minor": 0,
  "metadata": {
    "colab": {
      "provenance": [],
      "gpuType": "T4"
    },
    "kernelspec": {
      "name": "python3",
      "display_name": "Python 3"
    },
    "language_info": {
      "name": "python"
    },
    "accelerator": "GPU"
  },
  "cells": [
    {
      "cell_type": "markdown",
      "source": [
        "Confirmed by Omar"
      ],
      "metadata": {
        "id": "EVST6a3Hk175"
      }
    },
    {
      "cell_type": "markdown",
      "source": [
        "the project is about (Synthetic Financial Datasets For Fraud Detection\n",
        ")  .. https://www.kaggle.com/datasets/ealaxi/paysim1"
      ],
      "metadata": {
        "id": "L4t_rOvHXGs7"
      }
    },
    {
      "cell_type": "code",
      "execution_count": 6,
      "metadata": {
        "id": "AdW83SjUTJbL",
        "colab": {
          "base_uri": "https://localhost:8080/"
        },
        "outputId": "bfd8fa85-7dfc-495e-dfff-5821e563a718"
      },
      "outputs": [
        {
          "output_type": "stream",
          "name": "stdout",
          "text": [
            "/bin/bash: line 1: nvidia-smi: command not found\n"
          ]
        }
      ],
      "source": [
        "# Check GPU availability\n",
        "!nvidia-smi"
      ]
    },
    {
      "cell_type": "code",
      "source": [
        "import numpy as np\n",
        "import pandas as pd\n",
        "import matplotlib.pyplot as plt\n",
        "import seaborn as sns\n",
        "import time\n",
        "from sklearn.metrics import accuracy_score, confusion_matrix\n",
        "\n",
        "# Import GPU-based (cuML) libraries\n",
        "import cudf\n",
        "import cuml\n",
        "from cuml.linear_model import LogisticRegression\n",
        "from cuml.model_selection import train_test_split\n",
        "from cuml.preprocessing import StandardScaler\n"
      ],
      "metadata": {
        "id": "ZuQSs0qTdvOz",
        "colab": {
          "base_uri": "https://localhost:8080/"
        },
        "outputId": "aa5babfc-1f44-4225-a878-20ea2f6a18f0"
      },
      "execution_count": 2,
      "outputs": [
        {
          "output_type": "stream",
          "name": "stderr",
          "text": [
            "/usr/local/lib/python3.11/dist-packages/cudf/utils/_ptxcompiler.py:64: UserWarning: Error getting driver and runtime versions:\n",
            "\n",
            "stdout:\n",
            "\n",
            "\n",
            "\n",
            "stderr:\n",
            "\n",
            "Traceback (most recent call last):\n",
            "  File \"<string>\", line 4, in <module>\n",
            "  File \"/usr/local/lib/python3.11/dist-packages/numba_cuda/numba/cuda/cudadrv/driver.py\", line 314, in __getattr__\n",
            "    raise CudaSupportError(\"Error at driver init: \\n%s:\" %\n",
            "numba.cuda.cudadrv.error.CudaSupportError: Error at driver init: \n",
            "\n",
            "CUDA driver library cannot be found.\n",
            "If you are sure that a CUDA driver is installed,\n",
            "try setting environment variable NUMBA_CUDA_DRIVER\n",
            "with the file path of the CUDA driver shared library.\n",
            ":\n",
            "\n",
            "\n",
            "Not patching Numba\n",
            "  warnings.warn(msg, UserWarning)\n",
            "/usr/local/lib/python3.11/dist-packages/cudf/utils/gpu_utils.py:62: UserWarning: Failed to dlopen libcuda.so.1\n",
            "  warnings.warn(str(e))\n"
          ]
        }
      ]
    },
    {
      "cell_type": "code",
      "source": [
        "pip install kagglehub\n"
      ],
      "metadata": {
        "colab": {
          "base_uri": "https://localhost:8080/"
        },
        "id": "O_U1TqEDeN_B",
        "outputId": "cefa5525-19ed-4165-9035-66f2a822d7c0"
      },
      "execution_count": 3,
      "outputs": [
        {
          "output_type": "stream",
          "name": "stdout",
          "text": [
            "Requirement already satisfied: kagglehub in /usr/local/lib/python3.11/dist-packages (0.3.11)\n",
            "Requirement already satisfied: packaging in /usr/local/lib/python3.11/dist-packages (from kagglehub) (24.2)\n",
            "Requirement already satisfied: pyyaml in /usr/local/lib/python3.11/dist-packages (from kagglehub) (6.0.2)\n",
            "Requirement already satisfied: requests in /usr/local/lib/python3.11/dist-packages (from kagglehub) (2.32.3)\n",
            "Requirement already satisfied: tqdm in /usr/local/lib/python3.11/dist-packages (from kagglehub) (4.67.1)\n",
            "Requirement already satisfied: charset-normalizer<4,>=2 in /usr/local/lib/python3.11/dist-packages (from requests->kagglehub) (3.4.1)\n",
            "Requirement already satisfied: idna<4,>=2.5 in /usr/local/lib/python3.11/dist-packages (from requests->kagglehub) (3.10)\n",
            "Requirement already satisfied: urllib3<3,>=1.21.1 in /usr/local/lib/python3.11/dist-packages (from requests->kagglehub) (2.3.0)\n",
            "Requirement already satisfied: certifi>=2017.4.17 in /usr/local/lib/python3.11/dist-packages (from requests->kagglehub) (2025.1.31)\n"
          ]
        }
      ]
    },
    {
      "cell_type": "code",
      "source": [
        "import os\n",
        "import cudf\n",
        "import kagglehub\n",
        "\n",
        "# Download dataset\n",
        "path = kagglehub.dataset_download(\"ealaxi/paysim1\")\n",
        "\n",
        "import os\n",
        "print(os.listdir(path))\n",
        "# List files in the downloaded folder\n",
        "print(\"Files in dataset directory:\", os.listdir(path))\n",
        "\n",
        "# Assuming the file is named something like:\n",
        "# PS_20174392719_1491204439457_log.csv\n",
        "csv_path = os.path.join(path, \"PS_20174392719_1491204439457_log.csv\")\n",
        "\n",
        "# Load the dataset into a cuDF DataFrame\n",
        "gdf = cudf.read_csv(csv_path)\n",
        "\n",
        "# Display a sample\n",
        "print(gdf.head())\n"
      ],
      "metadata": {
        "colab": {
          "base_uri": "https://localhost:8080/",
          "height": 564
        },
        "id": "yTw4R0O5bg5T",
        "outputId": "51bdf04f-b9a0-40a5-8a4d-4870c7603cdf"
      },
      "execution_count": 5,
      "outputs": [
        {
          "output_type": "stream",
          "name": "stdout",
          "text": [
            "Downloading from https://www.kaggle.com/api/v1/datasets/download/ealaxi/paysim1?dataset_version_number=2...\n"
          ]
        },
        {
          "output_type": "stream",
          "name": "stderr",
          "text": [
            "100%|██████████| 178M/178M [00:01<00:00, 129MB/s]"
          ]
        },
        {
          "output_type": "stream",
          "name": "stdout",
          "text": [
            "Extracting files...\n"
          ]
        },
        {
          "output_type": "stream",
          "name": "stderr",
          "text": [
            "\n"
          ]
        },
        {
          "output_type": "stream",
          "name": "stdout",
          "text": [
            "['PS_20174392719_1491204439457_log.csv']\n",
            "Files in dataset directory: ['PS_20174392719_1491204439457_log.csv']\n"
          ]
        },
        {
          "output_type": "error",
          "ename": "MemoryError",
          "evalue": "std::bad_alloc: CUDA error at: /pyenv/versions/3.12.9/lib/python3.12/site-packages/librmm/include/rmm/mr/device/cuda_memory_resource.hpp:62: cudaErrorInsufficientDriver CUDA driver version is insufficient for CUDA runtime version",
          "traceback": [
            "\u001b[0;31m---------------------------------------------------------------------------\u001b[0m",
            "\u001b[0;31mMemoryError\u001b[0m                               Traceback (most recent call last)",
            "\u001b[0;32m<ipython-input-5-3afdc4c158bd>\u001b[0m in \u001b[0;36m<cell line: 0>\u001b[0;34m()\u001b[0m\n\u001b[1;32m     16\u001b[0m \u001b[0;34m\u001b[0m\u001b[0m\n\u001b[1;32m     17\u001b[0m \u001b[0;31m# Load the dataset into a cuDF DataFrame\u001b[0m\u001b[0;34m\u001b[0m\u001b[0;34m\u001b[0m\u001b[0m\n\u001b[0;32m---> 18\u001b[0;31m \u001b[0mgdf\u001b[0m \u001b[0;34m=\u001b[0m \u001b[0mcudf\u001b[0m\u001b[0;34m.\u001b[0m\u001b[0mread_csv\u001b[0m\u001b[0;34m(\u001b[0m\u001b[0mcsv_path\u001b[0m\u001b[0;34m)\u001b[0m\u001b[0;34m\u001b[0m\u001b[0;34m\u001b[0m\u001b[0m\n\u001b[0m\u001b[1;32m     19\u001b[0m \u001b[0;34m\u001b[0m\u001b[0m\n\u001b[1;32m     20\u001b[0m \u001b[0;31m# Display a sample\u001b[0m\u001b[0;34m\u001b[0m\u001b[0;34m\u001b[0m\u001b[0m\n",
            "\u001b[0;32m/usr/local/lib/python3.11/dist-packages/cudf/utils/performance_tracking.py\u001b[0m in \u001b[0;36mwrapper\u001b[0;34m(*args, **kwargs)\u001b[0m\n\u001b[1;32m     49\u001b[0m                     )\n\u001b[1;32m     50\u001b[0m                 )\n\u001b[0;32m---> 51\u001b[0;31m             \u001b[0;32mreturn\u001b[0m \u001b[0mfunc\u001b[0m\u001b[0;34m(\u001b[0m\u001b[0;34m*\u001b[0m\u001b[0margs\u001b[0m\u001b[0;34m,\u001b[0m \u001b[0;34m**\u001b[0m\u001b[0mkwargs\u001b[0m\u001b[0;34m)\u001b[0m\u001b[0;34m\u001b[0m\u001b[0;34m\u001b[0m\u001b[0m\n\u001b[0m\u001b[1;32m     52\u001b[0m \u001b[0;34m\u001b[0m\u001b[0m\n\u001b[1;32m     53\u001b[0m     \u001b[0;32mreturn\u001b[0m \u001b[0mwrapper\u001b[0m\u001b[0;34m\u001b[0m\u001b[0;34m\u001b[0m\u001b[0m\n",
            "\u001b[0;32m/usr/local/lib/python3.11/dist-packages/cudf/io/csv.py\u001b[0m in \u001b[0;36mread_csv\u001b[0;34m(filepath_or_buffer, sep, delimiter, header, names, index_col, usecols, prefix, mangle_dupe_cols, dtype, true_values, false_values, skipinitialspace, skiprows, skipfooter, nrows, na_values, keep_default_na, na_filter, skip_blank_lines, parse_dates, dayfirst, compression, thousands, decimal, lineterminator, quotechar, quoting, doublequote, comment, delim_whitespace, byte_range, storage_options, bytes_per_thread)\u001b[0m\n\u001b[1;32m    255\u001b[0m         \u001b[0moptions\u001b[0m\u001b[0;34m.\u001b[0m\u001b[0mset_na_values\u001b[0m\u001b[0;34m(\u001b[0m\u001b[0;34m[\u001b[0m\u001b[0mstr\u001b[0m\u001b[0;34m(\u001b[0m\u001b[0mval\u001b[0m\u001b[0;34m)\u001b[0m \u001b[0;32mfor\u001b[0m \u001b[0mval\u001b[0m \u001b[0;32min\u001b[0m \u001b[0mna_values\u001b[0m\u001b[0;34m]\u001b[0m\u001b[0;34m)\u001b[0m\u001b[0;34m\u001b[0m\u001b[0;34m\u001b[0m\u001b[0m\n\u001b[1;32m    256\u001b[0m \u001b[0;34m\u001b[0m\u001b[0m\n\u001b[0;32m--> 257\u001b[0;31m     \u001b[0mtable_w_meta\u001b[0m \u001b[0;34m=\u001b[0m \u001b[0mplc\u001b[0m\u001b[0;34m.\u001b[0m\u001b[0mio\u001b[0m\u001b[0;34m.\u001b[0m\u001b[0mcsv\u001b[0m\u001b[0;34m.\u001b[0m\u001b[0mread_csv\u001b[0m\u001b[0;34m(\u001b[0m\u001b[0moptions\u001b[0m\u001b[0;34m)\u001b[0m\u001b[0;34m\u001b[0m\u001b[0;34m\u001b[0m\u001b[0m\n\u001b[0m\u001b[1;32m    258\u001b[0m     data = {\n\u001b[1;32m    259\u001b[0m         \u001b[0mname\u001b[0m\u001b[0;34m:\u001b[0m \u001b[0mColumn\u001b[0m\u001b[0;34m.\u001b[0m\u001b[0mfrom_pylibcudf\u001b[0m\u001b[0;34m(\u001b[0m\u001b[0mcol\u001b[0m\u001b[0;34m)\u001b[0m\u001b[0;34m\u001b[0m\u001b[0;34m\u001b[0m\u001b[0m\n",
            "\u001b[0;32mcsv.pyx\u001b[0m in \u001b[0;36mpylibcudf.io.csv.read_csv\u001b[0;34m()\u001b[0m\n",
            "\u001b[0;32mcsv.pyx\u001b[0m in \u001b[0;36mpylibcudf.io.csv.read_csv\u001b[0;34m()\u001b[0m\n",
            "\u001b[0;31mMemoryError\u001b[0m: std::bad_alloc: CUDA error at: /pyenv/versions/3.12.9/lib/python3.12/site-packages/librmm/include/rmm/mr/device/cuda_memory_resource.hpp:62: cudaErrorInsufficientDriver CUDA driver version is insufficient for CUDA runtime version"
          ]
        }
      ]
    },
    {
      "cell_type": "code",
      "source": [
        "# Basic data exploration\n",
        "print(\"\\nDataset shape:\", gdf.shape)\n",
        "print(\"\\nSample of the data:\")\n",
        "print(gdf.head())\n",
        "print(\"\\nSummary statistics:\")\n",
        "print(gdf.describe())\n",
        "print(\"\\nData types:\")\n",
        "print(gdf.dtypes)\n",
        "print(\"\\nClass distribution:\")\n",
        "print(gdf['isFraud'].value_counts())"
      ],
      "metadata": {
        "id": "1PIsKyNqlCQI"
      },
      "execution_count": null,
      "outputs": []
    },
    {
      "cell_type": "code",
      "source": [
        "gdf = gdf.drop(['nameOrig', 'nameDest'], axis=1)\n",
        "gdf['type'] = gdf['type'].astype('category').cat.codes\n",
        "gdf['label'] = gdf['isFraud']\n",
        "gdf = gdf.drop(['isFraud', 'isFlaggedFraud'], axis=1)"
      ],
      "metadata": {
        "id": "OtxVuY2ZnjVc"
      },
      "execution_count": null,
      "outputs": []
    },
    {
      "cell_type": "code",
      "source": [
        "X = gdf.drop('label', axis=1)\n",
        "y = gdf['label']"
      ],
      "metadata": {
        "id": "DmjDnuP2oGzX"
      },
      "execution_count": null,
      "outputs": []
    },
    {
      "cell_type": "code",
      "source": [
        "# Split the data\n",
        "X_train, X_test, y_train, y_test = train_test_split( X, y, test_size=0.2, random_state=42, stratify=y)\n"
      ],
      "metadata": {
        "id": "gkZvtXD6oN3D"
      },
      "execution_count": null,
      "outputs": []
    },
    {
      "cell_type": "code",
      "source": [
        "from cuml.linear_model import LogisticRegression\n",
        "from cuml.metrics import accuracy_score\n",
        "\n",
        "lr_model = LogisticRegression()\n",
        "lr_model.fit(X_train, y_train)\n",
        "\n",
        "\n",
        "y_pred = lr_model.predict(X_test)\n",
        "\n",
        "acc = accuracy_score(y_test, y_pred)\n",
        "print(f\"Logistic Regression Accuracy: {acc:.4f}\")"
      ],
      "metadata": {
        "id": "GjZCC8bqwyk3"
      },
      "execution_count": null,
      "outputs": []
    },
    {
      "cell_type": "code",
      "source": [
        "from cuml.metrics import confusion_matrix\n",
        "from sklearn.metrics import classification_report\n",
        "\n",
        "cm = confusion_matrix(y_test, y_pred)\n",
        "print(\"Confusion Matrix:\\n\", cm)\n",
        "\n",
        "\n",
        "print(classification_report(y_test.to_numpy(), y_pred.to_numpy()))"
      ],
      "metadata": {
        "id": "2mY6lFZJw91K"
      },
      "execution_count": null,
      "outputs": []
    },
    {
      "cell_type": "code",
      "source": [
        "from cuml.ensemble import RandomForestClassifier\n",
        "\n",
        "rf_model = RandomForestClassifier(n_estimators=100)\n",
        "rf_model.fit(X_train, y_train)\n",
        "rf_preds = rf_model.predict(X_test)\n",
        "rf_acc = accuracy_score(y_test, rf_preds)\n",
        "print(f\"Random Forest Accuracy: {rf_acc:.4f}\")\n"
      ],
      "metadata": {
        "id": "Lvav8x28xClh"
      },
      "execution_count": null,
      "outputs": []
    },
    {
      "cell_type": "code",
      "source": [
        "from cuml.metrics import confusion_matrix\n",
        "from sklearn.metrics import classification_report\n",
        "\n",
        "\n",
        "cm = confusion_matrix(y_test, rf_preds)\n",
        "print(\"Confusion Matrix:\\n\", cm)\n",
        "\n",
        "\n",
        "print(classification_report(y_test.to_numpy(), rf_preds.to_numpy()))\n"
      ],
      "metadata": {
        "id": "U7yGI-FVxgfS"
      },
      "execution_count": null,
      "outputs": []
    },
    {
      "cell_type": "code",
      "source": [
        "from cuml.neighbors import KNeighborsClassifier\n",
        "\n",
        "# Train KNN model\n",
        "knn_model = KNeighborsClassifier(n_neighbors=5)\n",
        "knn_model.fit(X_train, y_train)\n",
        "\n",
        "\n",
        "knn_preds = knn_model.predict(X_test)\n",
        "\n",
        "knn_acc = accuracy_score(y_test, knn_preds)\n",
        "print(f\"KNN Accuracy: {knn_acc:.4f}\")\n"
      ],
      "metadata": {
        "id": "8cK0kb_yxmFy"
      },
      "execution_count": null,
      "outputs": []
    },
    {
      "cell_type": "code",
      "source": [
        "from sklearn.metrics import classification_report, confusion_matrix\n",
        "\n",
        "# Logistic Regression\n",
        "print(\" Logistic Regression Report:\")\n",
        "print(classification_report(y_test.to_numpy(), y_pred.to_numpy(), digits=4))\n",
        "print(\"Confusion Matrix:\\n\", confusion_matrix(y_test.to_numpy(), y_pred.to_numpy()))\n",
        "\n",
        "# Random Forest\n",
        "print(\"\\n Random Forest Report:\")\n",
        "print(classification_report(y_test.to_numpy(), rf_preds.to_numpy(), digits=4))\n",
        "print(\"Confusion Matrix:\\n\", confusion_matrix(y_test.to_numpy(), rf_preds.to_numpy()))\n",
        "\n",
        "# KNN\n",
        "print(\"\\n KNN Report:\")\n",
        "print(classification_report(y_test.to_numpy(), knn_preds.to_numpy(), digits=4))\n",
        "print(\"Confusion Matrix:\\n\", confusion_matrix(y_test.to_numpy(), knn_preds.to_numpy()))"
      ],
      "metadata": {
        "id": "PiHkXWG8yDGn"
      },
      "execution_count": null,
      "outputs": []
    },
    {
      "cell_type": "code",
      "source": [
        "import time\n",
        "\n",
        "# Logistic Regression\n",
        "start = time.time()\n",
        "lr_model.fit(X_train, y_train)\n",
        "train_time_lr = time.time() - start\n",
        "\n",
        "start = time.time()\n",
        "lr_model.predict(X_test)\n",
        "inference_time_lr = time.time() - start\n",
        "\n",
        "# Random Forest\n",
        "start = time.time()\n",
        "rf_model.fit(X_train, y_train)\n",
        "train_time_rf = time.time() - start\n",
        "\n",
        "start = time.time()\n",
        "rf_model.predict(X_test)\n",
        "inference_time_rf = time.time() - start\n",
        "\n",
        "# KNN\n",
        "start = time.time()\n",
        "knn_model.fit(X_train, y_train)\n",
        "train_time_knn = time.time() - start\n",
        "\n",
        "start = time.time()\n",
        "knn_model.predict(X_test)\n",
        "inference_time_knn = time.time() - start\n",
        "\n",
        "print(f\"\"\"\n",
        " Training Times:\n",
        "Logistic Regression: {train_time_lr:.4f} s\n",
        "Random Forest: {train_time_rf:.4f} s\n",
        "KNN: {train_time_knn:.4f} s\n",
        "\n",
        " Inference Times:\n",
        "Logistic Regression: {inference_time_lr:.4f} s\n",
        "Random Forest: {inference_time_rf:.4f} s\n",
        "KNN: {inference_time_knn:.4f} s\n",
        "\"\"\")\n"
      ],
      "metadata": {
        "id": "DSLkvs03yIsS"
      },
      "execution_count": null,
      "outputs": []
    },
    {
      "cell_type": "code",
      "source": [
        "import matplotlib.pyplot as plt\n",
        "\n",
        "\n",
        "models = ['Logistic Regression', 'Random Forest', 'KNN']\n",
        "accuracies = [acc, rf_acc, knn_acc]\n",
        "\n",
        "plt.figure(figsize=(8, 5))\n",
        "plt.bar(models, accuracies, color='steelblue')\n",
        "plt.title(\"Model Accuracy Comparison\")\n",
        "plt.ylabel(\"Accuracy\")\n",
        "plt.ylim(0.90, 1.00)\n",
        "plt.grid(axis='y', linestyle='--', alpha=0.7)\n",
        "plt.show()\n"
      ],
      "metadata": {
        "id": "XJQOcJ0-yJng"
      },
      "execution_count": null,
      "outputs": []
    }
  ]
}